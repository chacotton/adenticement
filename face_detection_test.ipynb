{
 "cells": [
  {
   "cell_type": "code",
   "execution_count": 1,
   "metadata": {
    "collapsed": true
   },
   "outputs": [
    {
     "name": "stderr",
     "output_type": "stream",
     "text": [
      "2022-11-10 11:55:18.596259: I tensorflow/core/platform/cpu_feature_guard.cc:193] This TensorFlow binary is optimized with oneAPI Deep Neural Network Library (oneDNN) to use the following CPU instructions in performance-critical operations:  AVX2 FMA\n",
      "To enable them in other operations, rebuild TensorFlow with the appropriate compiler flags.\n"
     ]
    }
   ],
   "source": [
    "from deepface.detectors import FaceDetector\n",
    "import pandas as pd\n",
    "import cv2\n",
    "import os\n",
    "from pathlib import Path\n",
    "from contextlib import redirect_stdout\n",
    "from time import time\n",
    "import tarfile"
   ]
  },
  {
   "cell_type": "code",
   "execution_count": 2,
   "outputs": [
    {
     "name": "stderr",
     "output_type": "stream",
     "text": [
      "/var/folders/th/8x8sv1317rl_27mws2jf40980000gn/T/ipykernel_2546/468426028.py:3: FutureWarning: In a future version, `df.iloc[:, i] = newvals` will attempt to set the values inplace instead of always setting a new array. To retain the old behavior, use either `df[df.columns[i]] = newvals` or, if columns are non-unique, `df.isetitem(i, newvals)`\n",
      "  scores.loc[:,'latency'] = 0\n"
     ]
    }
   ],
   "source": [
    "backends = ['opencv', 'ssd', 'dlib', 'mtcnn', 'retinaface']\n",
    "scores = pd.DataFrame(columns=['single_person', 'two_person', 'multiple_person', 'latency'], index=backends)\n",
    "scores.loc[:,'latency'] = 0"
   ],
   "metadata": {
    "collapsed": false
   }
  },
  {
   "cell_type": "code",
   "execution_count": 8,
   "outputs": [],
   "source": [
    "if not os.path.exists('images/'):\n",
    "    with tarfile.open('images.tar.gz', \"r:gz\") as f:\n",
    "        f.extractall()"
   ],
   "metadata": {
    "collapsed": false
   }
  },
  {
   "cell_type": "code",
   "execution_count": 10,
   "outputs": [],
   "source": [
    "image = cv2.imread('images/single_person/1_1.jpeg')"
   ],
   "metadata": {
    "collapsed": false
   }
  },
  {
   "cell_type": "code",
   "execution_count": 13,
   "outputs": [
    {
     "name": "stderr",
     "output_type": "stream",
     "text": [
      "2022-11-10 12:03:40.065669: I tensorflow/core/platform/cpu_feature_guard.cc:193] This TensorFlow binary is optimized with oneAPI Deep Neural Network Library (oneDNN) to use the following CPU instructions in performance-critical operations:  AVX2 FMA\n",
      "To enable them in other operations, rebuild TensorFlow with the appropriate compiler flags.\n"
     ]
    }
   ],
   "source": [
    "for d in ['single_person', 'two_person', 'multiple_person']:\n",
    "    directory = Path(f'images/{d}')\n",
    "    for b in backends:\n",
    "        faces_detected, faces = 0,0\n",
    "        for ims in os.listdir(directory):\n",
    "            if ims.startswith('.'):\n",
    "                continue\n",
    "            image = cv2.imread(str(directory) + '/' + ims)\n",
    "            with open(os.devnull, 'w') as devnull:\n",
    "                with redirect_stdout(devnull):\n",
    "                    start = time()\n",
    "                    out = FaceDetector.detect_faces(FaceDetector.build_model(b), b, image)\n",
    "                    end = time()\n",
    "            scores.loc[b, 'latency'] += ((end - start) * 1000)\n",
    "            faces_detected += len(out)\n",
    "            faces += int(ims.split('.')[0].split('_')[-1])\n",
    "        scores.loc[b, d] = faces_detected/faces\n",
    "scores.loc[:,'latency'] /= 15"
   ],
   "metadata": {
    "collapsed": false
   }
  },
  {
   "cell_type": "markdown",
   "source": [
    "single_person, two_person, and multiple_person columns show detection accuracy (number of people detected / number of people)\n",
    "latency is the average latency of the model in ms"
   ],
   "metadata": {
    "collapsed": false
   }
  },
  {
   "cell_type": "code",
   "execution_count": 14,
   "outputs": [
    {
     "data": {
      "text/plain": "           single_person two_person multiple_person      latency\nopencv               0.6        0.2        0.259259    18.005308\nssd                  0.8        0.5        0.555556    30.898984\ndlib                 0.8        0.4         0.62963    63.737583\nmtcnn                1.0        0.8        0.962963   570.498308\nretinaface           1.0        0.9             1.0  2029.209614",
      "text/html": "<div>\n<style scoped>\n    .dataframe tbody tr th:only-of-type {\n        vertical-align: middle;\n    }\n\n    .dataframe tbody tr th {\n        vertical-align: top;\n    }\n\n    .dataframe thead th {\n        text-align: right;\n    }\n</style>\n<table border=\"1\" class=\"dataframe\">\n  <thead>\n    <tr style=\"text-align: right;\">\n      <th></th>\n      <th>single_person</th>\n      <th>two_person</th>\n      <th>multiple_person</th>\n      <th>latency</th>\n    </tr>\n  </thead>\n  <tbody>\n    <tr>\n      <th>opencv</th>\n      <td>0.6</td>\n      <td>0.2</td>\n      <td>0.259259</td>\n      <td>18.005308</td>\n    </tr>\n    <tr>\n      <th>ssd</th>\n      <td>0.8</td>\n      <td>0.5</td>\n      <td>0.555556</td>\n      <td>30.898984</td>\n    </tr>\n    <tr>\n      <th>dlib</th>\n      <td>0.8</td>\n      <td>0.4</td>\n      <td>0.62963</td>\n      <td>63.737583</td>\n    </tr>\n    <tr>\n      <th>mtcnn</th>\n      <td>1.0</td>\n      <td>0.8</td>\n      <td>0.962963</td>\n      <td>570.498308</td>\n    </tr>\n    <tr>\n      <th>retinaface</th>\n      <td>1.0</td>\n      <td>0.9</td>\n      <td>1.0</td>\n      <td>2029.209614</td>\n    </tr>\n  </tbody>\n</table>\n</div>"
     },
     "execution_count": 14,
     "metadata": {},
     "output_type": "execute_result"
    }
   ],
   "source": [
    "scores"
   ],
   "metadata": {
    "collapsed": false
   }
  },
  {
   "cell_type": "code",
   "execution_count": null,
   "outputs": [],
   "source": [],
   "metadata": {
    "collapsed": false
   }
  }
 ],
 "metadata": {
  "kernelspec": {
   "display_name": "Python 3",
   "language": "python",
   "name": "python3"
  },
  "language_info": {
   "codemirror_mode": {
    "name": "ipython",
    "version": 2
   },
   "file_extension": ".py",
   "mimetype": "text/x-python",
   "name": "python",
   "nbconvert_exporter": "python",
   "pygments_lexer": "ipython2",
   "version": "2.7.6"
  }
 },
 "nbformat": 4,
 "nbformat_minor": 0
}
