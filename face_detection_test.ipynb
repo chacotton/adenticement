{
 "cells": [
  {
   "cell_type": "code",
   "execution_count": 11,
   "metadata": {
    "collapsed": true
   },
   "outputs": [],
   "source": [
    "from emotion_recog.DeepFaceModel import DeepFaceModel\n",
    "import cv2\n",
    "import os\n",
    "import numpy as np\n",
    "from tqdm import tqdm"
   ]
  },
  {
   "cell_type": "code",
   "execution_count": 2,
   "outputs": [],
   "source": [
    "vectors = []\n",
    "info = []\n",
    "model = DeepFaceModel()"
   ],
   "metadata": {
    "collapsed": false
   }
  },
  {
   "cell_type": "code",
   "execution_count": 9,
   "outputs": [
    {
     "name": "stderr",
     "output_type": "stream",
     "text": [
      "100%|██████████| 1825/1825 [01:51<00:00, 16.31it/s]\n",
      "100%|██████████| 1139/1139 [01:25<00:00, 13.30it/s]\n",
      "100%|██████████| 1018/1018 [00:55<00:00, 18.33it/s]\n",
      "100%|██████████| 797/797 [00:46<00:00, 17.25it/s]\n",
      "100%|██████████| 1216/1216 [01:13<00:00, 16.62it/s]\n",
      "100%|██████████| 960/960 [00:50<00:00, 18.85it/s]\n",
      "100%|██████████| 111/111 [00:06<00:00, 18.00it/s]\n"
     ]
    }
   ],
   "source": [
    "base = 'images/validation/'\n",
    "for dirs in os.listdir(base):\n",
    "    for ims in tqdm(os.listdir(base + dirs)):\n",
    "        img = cv2.imread(base + dirs + '/' + ims)\n",
    "        vectors.append(model.predict_vector(img, localize=False))\n",
    "        info.append([ims, dirs])"
   ],
   "metadata": {
    "collapsed": false
   }
  },
  {
   "cell_type": "code",
   "execution_count": 12,
   "outputs": [],
   "source": [
    "vectors = np.array(vectors)\n",
    "info = np.array(info)\n",
    "np.save('emotion_vectors.npy', vectors)\n",
    "np.save('emotion_vector_info.npy', info)"
   ],
   "metadata": {
    "collapsed": false
   }
  },
  {
   "cell_type": "code",
   "execution_count": null,
   "outputs": [],
   "source": [],
   "metadata": {
    "collapsed": false
   }
  }
 ],
 "metadata": {
  "kernelspec": {
   "display_name": "Python 3",
   "language": "python",
   "name": "python3"
  },
  "language_info": {
   "codemirror_mode": {
    "name": "ipython",
    "version": 2
   },
   "file_extension": ".py",
   "mimetype": "text/x-python",
   "name": "python",
   "nbconvert_exporter": "python",
   "pygments_lexer": "ipython2",
   "version": "2.7.6"
  }
 },
 "nbformat": 4,
 "nbformat_minor": 0
}
